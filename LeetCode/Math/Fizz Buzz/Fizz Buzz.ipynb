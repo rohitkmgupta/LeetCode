{
 "cells": [
  {
   "cell_type": "code",
   "execution_count": 2,
   "metadata": {},
   "outputs": [],
   "source": [
    "class Solution:\n",
    "    def fizzBuzz(self, n: int):\n",
    "        mylist=[]\n",
    "        for i in range(1,n+1):\n",
    "            if i%3==0 and i%5 ==0:\n",
    "                mylist.append('FizzBuzz')\n",
    "            elif i%3==0:\n",
    "                 mylist.append('Fizz')\n",
    "            elif i%5==0:\n",
    "                 mylist.append('Buzz')\n",
    "            else:\n",
    "                 mylist.append(str(i))\n",
    "        return mylist"
   ]
  },
  {
   "cell_type": "code",
   "execution_count": 3,
   "metadata": {},
   "outputs": [],
   "source": [
    "class Solution:\n",
    "    def fizzBuzz(self, n: int):\n",
    "        mylist=[]\n",
    "        three_counter =1\n",
    "        five_counter =1\n",
    "        fifteen_counter = 1\n",
    "        for i in range(1,n+1):\n",
    "            if fifteen_counter == 15:\n",
    "                three_counter=0\n",
    "                five_counter=0\n",
    "                fifteen_counter=0\n",
    "                mylist.append('FizzBuzz')\n",
    "            elif three_counter == 3:\n",
    "                three_counter =0\n",
    "                mylist.append('Fizz')\n",
    "            elif five_counter == 5:\n",
    "                five_counter=0\n",
    "                mylist.append('Buzz')\n",
    "            else:\n",
    "                mylist.append(str(i))\n",
    "            three_counter +=1\n",
    "            five_counter +=1\n",
    "            fifteen_counter +=1\n",
    "        return mylist"
   ]
  },
  {
   "cell_type": "code",
   "execution_count": null,
   "metadata": {},
   "outputs": [],
   "source": []
  }
 ],
 "metadata": {
  "kernelspec": {
   "display_name": "Python 3",
   "language": "python",
   "name": "python3"
  },
  "language_info": {
   "codemirror_mode": {
    "name": "ipython",
    "version": 3
   },
   "file_extension": ".py",
   "mimetype": "text/x-python",
   "name": "python",
   "nbconvert_exporter": "python",
   "pygments_lexer": "ipython3",
   "version": "3.6.5"
  }
 },
 "nbformat": 4,
 "nbformat_minor": 2
}
