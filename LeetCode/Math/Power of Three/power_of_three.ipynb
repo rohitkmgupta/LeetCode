{
 "cells": [
  {
   "cell_type": "code",
   "execution_count": 1,
   "metadata": {},
   "outputs": [],
   "source": [
    "class Solution:\n",
    "    def isPowerOfThree(self, n: int) -> bool:\n",
    "        if n ==0:\n",
    "            return False\n",
    "        if n==1:\n",
    "            return True\n",
    "        while n % 3==0:\n",
    "            if n==3:\n",
    "                return True\n",
    "            n /= 3\n",
    "        return False"
   ]
  },
  {
   "cell_type": "code",
   "execution_count": 2,
   "metadata": {},
   "outputs": [],
   "source": [
    "import math\n",
    "class Solution:\n",
    "    def isPowerOfThree(self, n: 'int') -> 'bool':        \n",
    "        if n <= 0:\n",
    "            return False\n",
    "        x = math.log(n) / math.log(3)\n",
    "        return abs(x-round(x)) < 1e-13"
   ]
  },
  {
   "cell_type": "markdown",
   "metadata": {},
   "source": [
    "## One line solution\n",
    "return math.log(n, 3).is_integer"
   ]
  }
 ],
 "metadata": {
  "kernelspec": {
   "display_name": "Python 3",
   "language": "python",
   "name": "python3"
  },
  "language_info": {
   "codemirror_mode": {
    "name": "ipython",
    "version": 3
   },
   "file_extension": ".py",
   "mimetype": "text/x-python",
   "name": "python",
   "nbconvert_exporter": "python",
   "pygments_lexer": "ipython3",
   "version": "3.6.5"
  }
 },
 "nbformat": 4,
 "nbformat_minor": 2
}
