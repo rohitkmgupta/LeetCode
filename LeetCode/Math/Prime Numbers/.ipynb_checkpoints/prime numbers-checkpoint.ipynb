{
 "cells": [
  {
   "cell_type": "markdown",
   "metadata": {},
   "source": [
    "class Solution(object):\n",
    "    def countPrimes(self, n):\n",
    "        \"\"\"\n",
    "        :type n: int\n",
    "        :rtype: int\n",
    "        \"\"\"\n",
    "        # Sieve of Eratosthenes\n",
    "\n",
    "        # We are only interested in numbers LESS than the input number\n",
    "        # exit early for numbers LESS than 2; (two is prime)\n",
    "        if n < 2:\n",
    "            return 0\n",
    "        \n",
    "        # create strike list for the input range, initializing all indices to\n",
    "        # prime (1).\n",
    "        strikes = [1] * n\n",
    "\n",
    "        # we know that 0 and 1 are not prime\n",
    "        strikes[0] = 0\n",
    "        strikes[1] = 0\n",
    "        \n",
    "        # Now set multiples of remaining numbers that are marked as prime to\n",
    "        # not prime.  It is safe ignore numbers alreay marked as not prime\n",
    "        # because there are factor(s) that divide evenly into this number and\n",
    "        # all its multiples.  Use upper limit of (n**0.5)+1, because:\n",
    "        #  (a) the smallest factor of a non-prime number will not be > sqrt(n).\n",
    "        #      Ex. non-prime = 100, \n",
    "        #           5*20\n",
    "        #           10*10, \n",
    "        #           20*5   # !! we have seen 5 before.\n",
    "        for i in range(2, int(n**0.5)+1):\n",
    "            if  strikes[i] != 0:\n",
    "                # slow:\n",
    "                #for j in range(i*i, n, i):\n",
    "                #    strikes[j] = 0\n",
    "\n",
    "                # 3x faster:\n",
    "                # strikes[i*i:n:i] = [0] * ((n-1-i*i)//i + 1)\n",
    "                # n = 11\n",
    "                # i = 2\n",
    "                # (n-1-i*i)//i + 1\n",
    "                # (n-1)               # get total # of indicies for n (non-inclusive)\n",
    "                #     -i*i            # shift to get # of slots in range of interest\n",
    "                #          //i        # get number of groups\n",
    "                #              + 1    # get number of slots\n",
    "                # strikes[2*2:11:2]  = [0] * ((11-1-2*2)//2 + 1\n",
    "                # strikes[4:11:2]    = [0] * 4\n",
    "                # s[4], s[6], s[8], s10] = 0, 0, 0, 0\n",
    "                strikes[i*i:n:i] = [0] * ((n-1-i*i)//i + 1)\n",
    "\n",
    "        return sum(strikes)"
   ]
  },
  {
   "cell_type": "code",
   "execution_count": 1,
   "metadata": {},
   "outputs": [],
   "source": [
    "strikes = [1] * 15"
   ]
  },
  {
   "cell_type": "code",
   "execution_count": 2,
   "metadata": {},
   "outputs": [
    {
     "data": {
      "text/plain": [
       "[1, 1, 1, 1, 1, 1, 1, 1, 1, 1, 1, 1, 1, 1, 1]"
      ]
     },
     "execution_count": 2,
     "metadata": {},
     "output_type": "execute_result"
    }
   ],
   "source": [
    "strikes"
   ]
  },
  {
   "cell_type": "code",
   "execution_count": 3,
   "metadata": {},
   "outputs": [],
   "source": [
    "strikes[0]=0\n",
    "strikes[1]=0"
   ]
  },
  {
   "cell_type": "code",
   "execution_count": 4,
   "metadata": {},
   "outputs": [
    {
     "data": {
      "text/plain": [
       "[0, 0, 1, 1, 1, 1, 1, 1, 1, 1, 1, 1, 1, 1, 1]"
      ]
     },
     "execution_count": 4,
     "metadata": {},
     "output_type": "execute_result"
    }
   ],
   "source": [
    "strikes"
   ]
  },
  {
   "cell_type": "code",
   "execution_count": 5,
   "metadata": {},
   "outputs": [
    {
     "data": {
      "text/plain": [
       "[1, 1, 1]"
      ]
     },
     "execution_count": 5,
     "metadata": {},
     "output_type": "execute_result"
    }
   ],
   "source": [
    "strikes[4:10:2]"
   ]
  },
  {
   "cell_type": "markdown",
   "metadata": {},
   "source": [
    "##seq[start:end:step]\n",
    "https://stackoverflow.com/questions/3453085/what-is-double-colon-in-python-when-subscripting-sequences"
   ]
  },
  {
   "cell_type": "code",
   "execution_count": 2,
   "metadata": {},
   "outputs": [],
   "source": [
    "class Solution:\n",
    "    def countPrimes(self, n: int) -> int:\n",
    "        if n<2:\n",
    "            return 0\n",
    "        strikes = [1]*n\n",
    "        strikes[0]=0\n",
    "        strikes[1]=0\n",
    "        for i in range(2, int(n ** 0.5)+1):\n",
    "            if strikes[i]==1:\n",
    "                strikes[i*i:n:i] = [0] * len(strikes[i*i:n:i])\n",
    "        return sum(strikes)\n",
    " "
   ]
  },
  {
   "cell_type": "code",
   "execution_count": null,
   "metadata": {},
   "outputs": [],
   "source": []
  }
 ],
 "metadata": {
  "kernelspec": {
   "display_name": "Python 3",
   "language": "python",
   "name": "python3"
  },
  "language_info": {
   "codemirror_mode": {
    "name": "ipython",
    "version": 3
   },
   "file_extension": ".py",
   "mimetype": "text/x-python",
   "name": "python",
   "nbconvert_exporter": "python",
   "pygments_lexer": "ipython3",
   "version": "3.6.5"
  }
 },
 "nbformat": 4,
 "nbformat_minor": 2
}
