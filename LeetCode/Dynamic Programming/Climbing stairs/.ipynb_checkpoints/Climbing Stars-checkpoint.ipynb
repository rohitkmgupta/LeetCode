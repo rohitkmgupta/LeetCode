{
 "cells": [
  {
   "cell_type": "markdown",
   "metadata": {},
   "source": [
    "For solving this kind of problems, the best approach is to divide into subproblems or think of small values\n",
    "Ways to climb 0 stairs = 1\n",
    "Ways to climb 1 stairs = 1\n",
    "Ways to climb 2 stairs = (1+1) and (2)= 2\n",
    "Ways to climb 3 stairs = (1+1+1) and (2+1) and (1+2)= 3\n",
    "Ways to climb 4 stairs = (1+1+1+1) and (1+2+1) and (2+1+1) and (1+1+2) and (2+2) = 5\n",
    "https://ericsshaw.wordpress.com/2014/11/25/leetcode-climbing-stairs-dynamic-programming/"
   ]
  },
  {
   "cell_type": "code",
   "execution_count": 1,
   "metadata": {},
   "outputs": [],
   "source": [
    "class Solution:\n",
    "    def climbStairs(self, n: int) -> int:\n",
    "        dp = []\n",
    "        dp.append(1)\n",
    "        dp.append(1)\n",
    "        for i in range(2,n+1):\n",
    "            dp.append(dp[i-1] + dp[i-2])\n",
    "        return dp[n]"
   ]
  },
  {
   "cell_type": "code",
   "execution_count": null,
   "metadata": {},
   "outputs": [],
   "source": []
  }
 ],
 "metadata": {
  "kernelspec": {
   "display_name": "Python 3",
   "language": "python",
   "name": "python3"
  },
  "language_info": {
   "codemirror_mode": {
    "name": "ipython",
    "version": 3
   },
   "file_extension": ".py",
   "mimetype": "text/x-python",
   "name": "python",
   "nbconvert_exporter": "python",
   "pygments_lexer": "ipython3",
   "version": "3.6.5"
  }
 },
 "nbformat": 4,
 "nbformat_minor": 2
}
