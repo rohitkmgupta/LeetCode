{
 "cells": [
  {
   "cell_type": "code",
   "execution_count": 1,
   "metadata": {},
   "outputs": [],
   "source": [
    "# Definition for singly-linked list.\n",
    "# class ListNode:\n",
    "#     def __init__(self, x):\n",
    "#         self.val = x\n",
    "#         self.next = None\n",
    "\n",
    "class Solution:\n",
    "    def isPalindrome(self, head: 'ListNode') -> 'bool':\n",
    "        if not head or not head.next:\n",
    "            return True\n",
    "        elif not head.next.next:\n",
    "            return head.val == head.next.val\n",
    "            \n",
    "        prev = None\n",
    "        fast = slow = head\n",
    "        while fast.next and fast.next.next:\n",
    "            fast = fast.next.next\n",
    "            # reverse the list as we move the slow node\n",
    "            tmp = slow.next\n",
    "            slow.next, prev = prev, slow\n",
    "            slow = tmp\n",
    "            \n",
    "        if fast.next:\n",
    "            fast = slow.next            \n",
    "            slow.next = prev\n",
    "        else:\n",
    "            fast = slow.next\n",
    "            slow = prev\n",
    "            \n",
    "        while fast:\n",
    "            if fast.val != slow.val:\n",
    "                return False\n",
    "            fast = fast.next\n",
    "            slow = slow.next\n",
    "        \n",
    "        return True\n",
    "        "
   ]
  },
  {
   "cell_type": "code",
   "execution_count": null,
   "metadata": {},
   "outputs": [],
   "source": []
  }
 ],
 "metadata": {
  "kernelspec": {
   "display_name": "Python 3",
   "language": "python",
   "name": "python3"
  },
  "language_info": {
   "codemirror_mode": {
    "name": "ipython",
    "version": 3
   },
   "file_extension": ".py",
   "mimetype": "text/x-python",
   "name": "python",
   "nbconvert_exporter": "python",
   "pygments_lexer": "ipython3",
   "version": "3.6.5"
  }
 },
 "nbformat": 4,
 "nbformat_minor": 2
}
