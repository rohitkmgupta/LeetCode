{
 "cells": [
  {
   "cell_type": "code",
   "execution_count": 1,
   "metadata": {},
   "outputs": [],
   "source": [
    "# Definition for a binary tree node.\n",
    "# class TreeNode:\n",
    "#     def __init__(self, x):\n",
    "#         self.val = x\n",
    "#         self.left = None\n",
    "#         self.right = None\n",
    "\n",
    "class Solution:\n",
    "    def levelOrder(self, root: 'TreeNode') -> 'List[List[int]]':\n",
    "        result, cur_level, next_level = [], [], []\n",
    "        if not root:\n",
    "            return result\n",
    "        cur = [root]\n",
    "        result.append([root.val])\n",
    "        if root.left:\n",
    "            next_level.append(root.left)\n",
    "        if root.right:\n",
    "            next_level.append(root.right)\n",
    "        while next_level:\n",
    "            temp_level = []\n",
    "            cur_level = next_level\n",
    "            for node in cur_level:\n",
    "                temp_level.append(node.val)\n",
    "            result.append(temp_level)\n",
    "            next_level = []\n",
    "            for node in cur_level:\n",
    "                if node.left:\n",
    "                    next_level.append(node.left)\n",
    "                if node.right:\n",
    "                    next_level.append(node.right)\n",
    "        return result"
   ]
  },
  {
   "cell_type": "code",
   "execution_count": null,
   "metadata": {},
   "outputs": [],
   "source": []
  }
 ],
 "metadata": {
  "kernelspec": {
   "display_name": "Python 3",
   "language": "python",
   "name": "python3"
  },
  "language_info": {
   "codemirror_mode": {
    "name": "ipython",
    "version": 3
   },
   "file_extension": ".py",
   "mimetype": "text/x-python",
   "name": "python",
   "nbconvert_exporter": "python",
   "pygments_lexer": "ipython3",
   "version": "3.6.5"
  }
 },
 "nbformat": 4,
 "nbformat_minor": 2
}
