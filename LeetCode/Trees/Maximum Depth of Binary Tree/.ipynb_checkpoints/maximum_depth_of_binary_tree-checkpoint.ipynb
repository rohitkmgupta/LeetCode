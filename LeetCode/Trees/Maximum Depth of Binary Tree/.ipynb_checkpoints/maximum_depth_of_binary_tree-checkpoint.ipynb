{
 "cells": [
  {
   "cell_type": "markdown",
   "metadata": {},
   "source": [
    "\n",
    "Adding an answer because Oskarbi's isn't explicit.\n",
    "\n",
    "You use self when:\n",
    "\n",
    "Defining an instance method. It is passed automatically as the first parameter when you call a method on an instance, and it is the instance on which the method was called.\n",
    "Referencing a class or instance attribute from inside an instance method. Use it you want to call a method or access a name (variable) on the instance the method was called on, from inside that method.\n",
    "You don't use self when\n",
    "\n",
    "You call an instance method normally. Using Oskarbi's example, if you do instance = MyClass(), you call MyClass.my_method as instance.my_method(some_var) not as instance.my_method(self, some_var).\n",
    "You reference a class attribute from outside an instance method but inside the class definition.\n",
    "You're inside a staticmethod.\n",
    "These don'ts are just examples of when not to use self. The dos are when you should use it"
   ]
  },
  {
   "cell_type": "code",
   "execution_count": 1,
   "metadata": {},
   "outputs": [],
   "source": [
    "# Definition for a binary tree node.\n",
    "# class TreeNode(object):\n",
    "#     def __init__(self, x):\n",
    "#         self.val = x\n",
    "#         self.left = None\n",
    "#         self.right = None\n",
    "\n",
    "class Solution(object):\n",
    "    def maxDepth(self, root):\n",
    "        \"\"\"\n",
    "        :type root: TreeNode\n",
    "        :rtype: int\n",
    "        \"\"\"\n",
    "        return self.traverse(root,0)\n",
    "    \n",
    "    def traverse(self,root,depth):\n",
    "        if root== None:\n",
    "            return depth\n",
    "        else:\n",
    "            depth+=1\n",
    "            return max(self.traverse(root.left,depth),self.traverse(root.right,depth))"
   ]
  },
  {
   "cell_type": "code",
   "execution_count": null,
   "metadata": {},
   "outputs": [],
   "source": []
  }
 ],
 "metadata": {
  "kernelspec": {
   "display_name": "Python 3",
   "language": "python",
   "name": "python3"
  },
  "language_info": {
   "codemirror_mode": {
    "name": "ipython",
    "version": 3
   },
   "file_extension": ".py",
   "mimetype": "text/x-python",
   "name": "python",
   "nbconvert_exporter": "python",
   "pygments_lexer": "ipython3",
   "version": "3.6.5"
  }
 },
 "nbformat": 4,
 "nbformat_minor": 2
}
